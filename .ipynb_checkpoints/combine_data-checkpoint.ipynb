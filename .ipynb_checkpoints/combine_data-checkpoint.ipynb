{
 "cells": [
  {
   "cell_type": "code",
   "execution_count": null,
   "metadata": {},
   "outputs": [],
   "source": [
    "# Dependencies\n",
    "import pandas as pd"
   ]
  },
  {
   "cell_type": "code",
   "execution_count": null,
   "metadata": {},
   "outputs": [],
   "source": [
    "# Read csv file with the pandas library\n",
    "aqi_df = pd.read_csv(\"Resources/original_data/aqi2019.csv\")\n",
    "\n",
    "aqi_df.head()\n"
   ]
  },
  {
   "cell_type": "code",
   "execution_count": null,
   "metadata": {},
   "outputs": [],
   "source": [
    "#remove unnecessary columns\n",
    "clean_aqi2019 = aqi_df[['us_state', 'county', 'days_with_aqi', 'good_days', 'moderate_days', 'unhealthy_sensitive_days', 'unhealthy_days', 'very_unhealthy_days', 'hazardous_days', 'days_co', 'days_no2', 'days_ozone', 'days_so2', 'days_pm2', 'days_pm10']]\n",
    "clean_aqi2019.head()"
   ]
  },
  {
   "cell_type": "code",
   "execution_count": null,
   "metadata": {},
   "outputs": [],
   "source": [
    "#update column names with year\n",
    "renamed2019_aqi = clean_aqi2019.rename(columns={'days_with_aqi':'days_with_aqi2019', 'good_days':'good_days2019', 'moderate_days':'moderate_days2019', 'unhealthy_sensitive_days':'unhealthy_sensitive_days2019', 'unhealthy_days':'unhealthy_days2019', 'very_unhealthy_days':'very_unhealthy_days2019', 'hazardous_days':'hazardous_days2019', 'days_co':'days_co2019', 'days_no2':'days_no2_2019', 'days_ozone':'days_ozone2019', 'days_so2':'days_so2_2019', 'days_pm2':'days_pm2_2019', 'days_pm10': 'days_pm10_2019'})\n",
    "                                        \n",
    "renamed2019_aqi.head()\n",
    "                                                "
   ]
  },
  {
   "cell_type": "code",
   "execution_count": null,
   "metadata": {},
   "outputs": [],
   "source": [
    "# Read csv file with the pandas library\n",
    "poverty2019_df = pd.read_csv(\"Resources/original_data/poverty2019.csv\")\n",
    "\n",
    "poverty2019_df.head()"
   ]
  },
  {
   "cell_type": "code",
   "execution_count": null,
   "metadata": {},
   "outputs": [],
   "source": [
    "renamed_poverty2019 = poverty2019_df.rename(columns={'poverty_estimate':'poverty_estimate2019', 'poverty_percentage':'poverty_percentage2019'})\n",
    "renamed_poverty2019.head()"
   ]
  },
  {
   "cell_type": "code",
   "execution_count": null,
   "metadata": {},
   "outputs": [],
   "source": [
    "#merge dataframes on state and county\n",
    "combined_df = pd.merge(renamed2019_aqi, renamed_poverty2019, how=\"left\", on=['us_state', 'county'])\n",
    "combined_df.head()\n"
   ]
  },
  {
   "cell_type": "code",
   "execution_count": null,
   "metadata": {},
   "outputs": [],
   "source": [
    "aqi2018_df = pd.read_csv(\"Resources/original_data/aqi2018.csv\")\n",
    "aqi2018_df.head()"
   ]
  },
  {
   "cell_type": "code",
   "execution_count": null,
   "metadata": {},
   "outputs": [],
   "source": [
    "#remove unnecessary columns\n",
    "clean2018_aqi = aqi2018_df[['us_state', 'county', 'days_with_aqi', 'good_days', 'moderate_days', 'unhealthy_sensitive_days', 'unhealthy_days', 'very_unhealthy_days', 'hazardous_days', 'days_co', 'days_no2', 'days_ozone', 'days_so2', 'days_pm2', 'days_pm10']]\n",
    "clean2018_aqi.head()"
   ]
  },
  {
   "cell_type": "code",
   "execution_count": null,
   "metadata": {},
   "outputs": [],
   "source": [
    "#update column names with year\n",
    "renamed2018_aqi = clean2018_aqi.rename(columns={'days_with_aqi':'days_with_aqi2018', 'good_days':'good_days2018', 'moderate_days':'moderate_days2018', 'unhealthy_sensitive_days':'unhealthy_sensitive_days2018', 'unhealthy_days':'unhealthy_days2018', 'very_unhealthy_days':'very_unhealthy_days2018', 'hazardous_days':'hazardous_days2018', 'days_co':'days_co2018', 'days_no2':'days_no2_2018', 'days_ozone':'days_ozone2018', 'days_so2':'days_so2_2018', 'days_pm2':'days_pm2_2018', 'days_pm10': 'days_pm10_2018'})\n",
    "                                        \n",
    "renamed2018_aqi.head()\n",
    "                       "
   ]
  },
  {
   "cell_type": "code",
   "execution_count": null,
   "metadata": {},
   "outputs": [],
   "source": [
    "# Read csv file with the pandas library\n",
    "poverty2018_df = pd.read_csv(\"Resources/original_data/poverty2018.csv\")\n",
    "\n",
    "poverty2018_df.head()"
   ]
  },
  {
   "cell_type": "code",
   "execution_count": null,
   "metadata": {},
   "outputs": [],
   "source": [
    "renamed_poverty2018 = poverty2018_df.rename(columns={'poverty_estimate':'poverty_estimate2018', 'poverty_percentage':'poverty_percentage2018'})\n",
    "renamed_poverty2018.head()"
   ]
  },
  {
   "cell_type": "code",
   "execution_count": null,
   "metadata": {},
   "outputs": [],
   "source": [
    "#merge dataframes on state and county\n",
    "combined2018_df = pd.merge(renamed2018_aqi, renamed_poverty2018, how=\"left\", on=['us_state', 'county'])\n",
    "combined2018_df.head()\n"
   ]
  },
  {
   "cell_type": "code",
   "execution_count": null,
   "metadata": {},
   "outputs": [],
   "source": [
    "combined1819_df = pd.merge(combined_df, combined2018_df, how=\"left\", on=['us_state', 'county'])\n",
    "combined1819_df.head()"
   ]
  },
  {
   "cell_type": "code",
   "execution_count": null,
   "metadata": {},
   "outputs": [],
   "source": [
    "# Read csv file with the pandas library\n",
    "aqi2017_df = pd.read_csv(\"Resources/original_data/aqi2017.csv\")\n",
    "\n",
    "aqi2017_df.head()"
   ]
  },
  {
   "cell_type": "code",
   "execution_count": null,
   "metadata": {},
   "outputs": [],
   "source": [
    "#remove unnecessary columns\n",
    "clean2017_aqi = aqi2017_df[['us_state', 'county', 'days_with_aqi', 'good_days', 'moderate_days', 'unhealthy_sensitive_days', 'unhealthy_days', 'very_unhealthy_days', 'hazardous_days', 'days_co', 'days_no2', 'days_ozone', 'days_so2', 'days_pm2', 'days_pm10']]\n",
    "clean2017_aqi.head()"
   ]
  },
  {
   "cell_type": "code",
   "execution_count": null,
   "metadata": {},
   "outputs": [],
   "source": [
    "#update column names with year\n",
    "renamed2017_aqi = clean2017_aqi.rename(columns={'days_with_aqi':'days_with_aqi2017', 'good_days':'good_days2017', 'moderate_days':'moderate_days2017', 'unhealthy_sensitive_days':'unhealthy_sensitive_days2017', 'unhealthy_days':'unhealthy_days2017', 'very_unhealthy_days':'very_unhealthy_days2017', 'hazardous_days':'hazardous_days2017', 'days_co':'days_co2017', 'days_no2':'days_no2_2017', 'days_ozone':'days_ozone2017', 'days_so2':'days_so2_2017', 'days_pm2':'days_pm2_2017', 'days_pm10': 'days_pm10_2017'})\n",
    "                                        \n",
    "renamed2017_aqi.head()"
   ]
  },
  {
   "cell_type": "code",
   "execution_count": null,
   "metadata": {},
   "outputs": [],
   "source": [
    "# Read csv file with the pandas library\n",
    "poverty2017_df = pd.read_csv(\"Resources/original_data/poverty2017.csv\")\n",
    "\n",
    "poverty2017_df.head()"
   ]
  },
  {
   "cell_type": "code",
   "execution_count": null,
   "metadata": {},
   "outputs": [],
   "source": [
    "renamed_poverty2017 = poverty2017_df.rename(columns={'poverty_estimate':'poverty_estimate2017', 'poverty_percentage':'poverty_percentage2017'})\n",
    "renamed_poverty2017.head()"
   ]
  },
  {
   "cell_type": "code",
   "execution_count": null,
   "metadata": {},
   "outputs": [],
   "source": [
    "#merge dataframes on state and county\n",
    "combined2017_df = pd.merge(renamed2017_aqi, renamed_poverty2017, how=\"left\", on=['us_state', 'county'])\n",
    "combined2017_df.head()"
   ]
  },
  {
   "cell_type": "code",
   "execution_count": null,
   "metadata": {},
   "outputs": [],
   "source": [
    "combined171819_df = pd.merge(combined1819_df, combined2017_df, how=\"left\", on=['us_state', 'county'])\n",
    "combined171819_df.head()"
   ]
  },
  {
   "cell_type": "code",
   "execution_count": null,
   "metadata": {},
   "outputs": [],
   "source": [
    "# Read csv file with the pandas library\n",
    "aqi2016_df = pd.read_csv(\"Resources/original_data/aqi2016.csv\")\n",
    "\n",
    "aqi2016_df.head()\n"
   ]
  },
  {
   "cell_type": "code",
   "execution_count": null,
   "metadata": {},
   "outputs": [],
   "source": [
    "#remove unnecessary columns\n",
    "clean2016_aqi = aqi2016_df[['us_state', 'county', 'days_with_aqi', 'good_days', 'moderate_days', 'unhealthy_sensitive_days', 'unhealthy_days', 'very_unhealthy_days', 'hazardous_days', 'days_co', 'days_no2', 'days_ozone', 'days_so2', 'days_pm2', 'days_pm10']]\n",
    "clean2016_aqi.head()"
   ]
  },
  {
   "cell_type": "code",
   "execution_count": null,
   "metadata": {},
   "outputs": [],
   "source": [
    "#update column names with year\n",
    "renamed2016_aqi = clean2016_aqi.rename(columns={'days_with_aqi':'days_with_aqi2016', 'good_days':'good_days2016', 'moderate_days':'moderate_days2016', 'unhealthy_sensitive_days':'unhealthy_sensitive_days2016', 'unhealthy_days':'unhealthy_days2016', 'very_unhealthy_days':'very_unhealthy_days2016', 'hazardous_days':'hazardous_days2016', 'days_co':'days_co2016', 'days_no2':'days_no2_2016', 'days_ozone':'days_ozone2016', 'days_so2':'days_so2_2016', 'days_pm2':'days_pm2_2016', 'days_pm10': 'days_pm10_2016'})\n",
    "                                        \n",
    "renamed2016_aqi.head()"
   ]
  },
  {
   "cell_type": "code",
   "execution_count": null,
   "metadata": {},
   "outputs": [],
   "source": [
    "# Read csv file with the pandas library\n",
    "poverty2016_df = pd.read_csv(\"Resources/original_data/poverty2016.csv\")\n",
    "\n",
    "poverty2016_df.head()"
   ]
  },
  {
   "cell_type": "code",
   "execution_count": null,
   "metadata": {},
   "outputs": [],
   "source": [
    "renamed_poverty2016 = poverty2016_df.rename(columns={'poverty_estimate':'poverty_estimate2016', 'poverty_percentage':'poverty_percentage2016'})\n",
    "renamed_poverty2016.head()"
   ]
  },
  {
   "cell_type": "code",
   "execution_count": null,
   "metadata": {},
   "outputs": [],
   "source": [
    "#merge dataframes on state and county\n",
    "combined2016_df = pd.merge(renamed2016_aqi, renamed_poverty2016, how=\"left\", on=['us_state', 'county'])\n",
    "combined2016_df.head()"
   ]
  },
  {
   "cell_type": "code",
   "execution_count": null,
   "metadata": {},
   "outputs": [],
   "source": [
    "all_combined_df = pd.merge(combined171819_df, combined2016_df, how=\"left\", on=['us_state', 'county'])\n",
    "all_combined_df"
   ]
  },
  {
   "cell_type": "code",
   "execution_count": null,
   "metadata": {},
   "outputs": [],
   "source": [
    "#drop rows with missing values\n",
    "clean_combined_df = all_combined_df.dropna()\n",
    "clean_combined_df"
   ]
  },
  {
   "cell_type": "code",
   "execution_count": null,
   "metadata": {},
   "outputs": [],
   "source": [
    "# Export file as a CSV, without the Pandas index, but with the header\n",
    "clean_combined_df.to_csv(\"Resources/clean_data/combineddata.csv\", index=False, header=True)"
   ]
  },
  {
   "cell_type": "code",
   "execution_count": null,
   "metadata": {},
   "outputs": [],
   "source": [
    "clean_combined_df.to_json(\"Resources/clean_data/combineddata.json\", orient='records')"
   ]
  },
  {
   "cell_type": "code",
   "execution_count": null,
   "metadata": {},
   "outputs": [],
   "source": []
  }
 ],
 "metadata": {
  "kernelspec": {
   "display_name": "Python [conda env:PythonData] *",
   "language": "python",
   "name": "conda-env-PythonData-py"
  },
  "language_info": {
   "codemirror_mode": {
    "name": "ipython",
    "version": 3
   },
   "file_extension": ".py",
   "mimetype": "text/x-python",
   "name": "python",
   "nbconvert_exporter": "python",
   "pygments_lexer": "ipython3",
   "version": "3.7.1"
  }
 },
 "nbformat": 4,
 "nbformat_minor": 4
}
