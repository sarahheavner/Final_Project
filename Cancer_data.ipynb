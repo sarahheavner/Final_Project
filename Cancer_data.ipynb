{
 "cells": [
  {
   "cell_type": "code",
   "execution_count": null,
   "metadata": {},
   "outputs": [],
   "source": [
    "# Dependencies\n",
    "import pandas as pd"
   ]
  },
  {
   "cell_type": "code",
   "execution_count": null,
   "metadata": {},
   "outputs": [],
   "source": [
    "# Read csv file with pandas and create dataframe\n",
    "cancer_df = pd.read_csv(\"Resources/original_data/cancer_data.csv\")\n",
    "cancer_df.head()"
   ]
  },
  {
   "cell_type": "code",
   "execution_count": null,
   "metadata": {},
   "outputs": [],
   "source": [
    "#drop unnecessary columns\n",
    "cancer_df = cancer_df.drop(columns = {'CancerType', 'Year', 'Sex', 'AgeAdjustedRate'})\n",
    "cancer_df.head()"
   ]
  },
  {
   "cell_type": "code",
   "execution_count": null,
   "metadata": {},
   "outputs": [],
   "source": [
    "#rename columns to match other jupyter notebook df\n",
    "renamed_cancer_df = cancer_df.rename(columns = {'Area': 'us_state', 'County': 'county'})\n",
    "renamed_cancer_df.head()"
   ]
  },
  {
   "cell_type": "code",
   "execution_count": null,
   "metadata": {},
   "outputs": [],
   "source": [
    "#remove ' symbol from all columns\n",
    "cols_to_check = ['us_state', 'county', 'CaseCount', 'Population']\n",
    "\n",
    "renamed_cancer_df[cols_to_check] = renamed_cancer_df[cols_to_check].replace({\"'\":''}, regex=True)\n",
    "renamed_cancer_df.head()"
   ]
  },
  {
   "cell_type": "code",
   "execution_count": null,
   "metadata": {},
   "outputs": [],
   "source": [
    "#remove county, area, parish, burough, etc from county column\n",
    "renamed_cancer_df['county'] = renamed_cancer_df['county'].replace({' County':'', ' Census Area':'', ' Parish':'', ' Burough':'', ' Municipality':'', ' City and Burough': '', 'City': ''}, regex=True)\n",
    "renamed_cancer_df.head()"
   ]
  },
  {
   "cell_type": "code",
   "execution_count": null,
   "metadata": {},
   "outputs": [],
   "source": [
    "#rename state from full name to abbreviation\n",
    "renamed_cancer_df['us_state'] = renamed_cancer_df['us_state'].replace({'Alabama':'AL', 'Alaska':'AK', 'Arkansas':'AR', 'Arizona':'AZ', 'California':'CA', \n",
    "                                                                      'Colorado':'CO', 'Connecticut':'CT', 'Delaware':'DE', 'Florida':'FL', 'Georgia':'GA',\n",
    "                                                                      'Hawaii':'HI', 'Idaho':'ID', 'Illinois':'IL', 'Indiana':'IN', 'Iowa':'IA', 'Kansas':'KS',\n",
    "                                                                      'Kentucky':'KY', 'Louisiana':'LA', 'Maine':'ME', 'Maryland':'MD', 'Massachusetts':'MA', \n",
    "                                                                      'Michigan':'MI', 'Minnesota':'MN', 'Mississippi':'MS', 'Missouri':'MO', 'Montana':'MT', 'Nebraska':'NE', \n",
    "                                                                      'Nevada':'NV', 'New Hampshire':'NH', 'New Jersey':'NJ', 'New Mexico':'NM', 'New York':'NY',\n",
    "                                                                      'North Carolina':'NC', 'North Dakota':'ND', 'Ohio':'OH', 'Oklahoma':'OK', 'Oregon':'OR',\n",
    "                                                                      'Pennsylvania':'PA', 'Rhode Island':'RI', 'South Carolina':'SC', 'South Dakota':'SD', \n",
    "                                                                      'Tennessee':'TN', 'Texas':'TX', 'Utah':'UT', 'Vermont':'VT', 'Virginia':'VA', 'Washington':'WA', \n",
    "                                                                      'West VA':'WV', 'Wisconsin':'WI', 'Wyoming':'WY'}, regex=True)\n",
    "\n",
    "renamed_cancer_df\n",
    "\n",
    "\n"
   ]
  },
  {
   "cell_type": "code",
   "execution_count": null,
   "metadata": {},
   "outputs": [],
   "source": [
    "#drop rows with \"Data Supressed\" \n",
    "renamed_cancer_df = renamed_cancer_df[renamed_cancer_df.CaseCount != 'Data Suppressed']\n",
    "renamed_cancer_df"
   ]
  },
  {
   "cell_type": "code",
   "execution_count": null,
   "metadata": {},
   "outputs": [],
   "source": [
    "#convert CaseCount to integer\n",
    "renamed_cancer_df['CaseCount'] = renamed_cancer_df['CaseCount'].astype(int)\n",
    "\n",
    "#calculate average cancer cases (data is for 5 year period)\n",
    "avg_cancer_cases = renamed_cancer_df['CaseCount']/5\n",
    "renamed_cancer_df['avg_cancer_cases'] = avg_cancer_cases\n",
    "\n",
    "\n",
    "renamed_cancer_df.head()"
   ]
  },
  {
   "cell_type": "code",
   "execution_count": null,
   "metadata": {
    "scrolled": false
   },
   "outputs": [],
   "source": [
    "#convert Population to integer\n",
    "renamed_cancer_df['Population'] = renamed_cancer_df['Population'].astype(int)\n",
    "\n",
    "#calculate population percentage with lung cancer\n",
    "cancer_percent = renamed_cancer_df['avg_cancer_cases']/renamed_cancer_df['Population'] *100000\n",
    "renamed_cancer_df['percent_pop_per_100k'] = cancer_percent\n",
    "\n",
    "renamed_cancer_df.head()"
   ]
  },
  {
   "cell_type": "code",
   "execution_count": null,
   "metadata": {},
   "outputs": [],
   "source": [
    "# get min and max of population percent\n",
    "renamed_cancer_df['percent_pop_per_100k'].min()"
   ]
  },
  {
   "cell_type": "code",
   "execution_count": null,
   "metadata": {},
   "outputs": [],
   "source": [
    "renamed_cancer_df['percent_pop_per_100k'].max()"
   ]
  },
  {
   "cell_type": "code",
   "execution_count": null,
   "metadata": {},
   "outputs": [],
   "source": [
    "# create bins to cateogorize population percentage as low, medium, high\n",
    "bins = [2.1032, 18.0650, 34.0268, 49.9888]\n",
    "category = ['low', 'medium', 'high']\n",
    "\n",
    "renamed_cancer_df['cancer_classification'] = pd.cut(renamed_cancer_df['percent_pop_per_100k'], bins, labels=category)\n",
    "renamed_cancer_df.head()"
   ]
  },
  {
   "cell_type": "code",
   "execution_count": null,
   "metadata": {},
   "outputs": [],
   "source": [
    "renamed_cancer_df['cancer_classification'].value_counts()"
   ]
  },
  {
   "cell_type": "code",
   "execution_count": null,
   "metadata": {},
   "outputs": [],
   "source": [
    "clean_cancer_df = renamed_cancer_df.drop(columns ={'CaseCount', 'Population', 'avg_cancer_cases'})\n",
    "clean_cancer_df"
   ]
  },
  {
   "cell_type": "code",
   "execution_count": null,
   "metadata": {},
   "outputs": [],
   "source": [
    "# Export file as a CSV, with index and header\n",
    "clean_cancer_df.to_csv(\"Resources/clean_data/cancerdata.csv\", index=False, header=True)"
   ]
  },
  {
   "cell_type": "code",
   "execution_count": null,
   "metadata": {},
   "outputs": [],
   "source": []
  }
 ],
 "metadata": {
  "kernelspec": {
   "display_name": "Python [conda env:PythonData] *",
   "language": "python",
   "name": "conda-env-PythonData-py"
  },
  "language_info": {
   "codemirror_mode": {
    "name": "ipython",
    "version": 3
   },
   "file_extension": ".py",
   "mimetype": "text/x-python",
   "name": "python",
   "nbconvert_exporter": "python",
   "pygments_lexer": "ipython3",
   "version": "3.7.1"
  }
 },
 "nbformat": 4,
 "nbformat_minor": 4
}
